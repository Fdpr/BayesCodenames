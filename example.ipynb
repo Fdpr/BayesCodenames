{
 "cells": [
  {
   "cell_type": "code",
   "execution_count": 4,
   "metadata": {},
   "outputs": [
    {
     "name": "stdout",
     "output_type": "stream",
     "text": [
      "C:\\Users\\flohk\\OneDrive\\Uni Master\\Masterarbeit\\github\\BayesCodenames\n"
     ]
    }
   ],
   "source": [
    "%cd  \"C:\\Users\\flohk\\OneDrive\\Uni Master\\Masterarbeit\\github\\BayesCodenames\""
   ]
  },
  {
   "cell_type": "code",
   "execution_count": 5,
   "metadata": {},
   "outputs": [],
   "source": [
    "import pickle\n",
    "from agents.rsa.rsagent import openai_Codemaster, openai_Guesser, Guesser_Wrapper, Codemaster_Wrapper\n",
    "from agents.game import Codenames"
   ]
  },
  {
   "cell_type": "code",
   "execution_count": 6,
   "metadata": {},
   "outputs": [],
   "source": [
    "with open(\"agents/data/all_codewords.pkl\", \"rb\") as file:\n",
    "    codewords = pickle.load(file)\n",
    "with open(\"agents/data/all_clues.pkl\", \"rb\") as file:\n",
    "    clues = pickle.load(file)[:20000]\n",
    "with open(f\"agents/data/boards/board_1.pkl\", \"rb\") as file:\n",
    "    board = pickle.load(file)"
   ]
  },
  {
   "cell_type": "code",
   "execution_count": 8,
   "metadata": {},
   "outputs": [],
   "source": [
    "guesser_agent = Guesser_Wrapper(openai_Guesser(), clues, codewords)\n",
    "codemaster_agent = Codemaster_Wrapper(openai_Codemaster(), clues, codewords)"
   ]
  },
  {
   "cell_type": "code",
   "execution_count": 9,
   "metadata": {},
   "outputs": [],
   "source": [
    "# Running a game with literal Guesser\n",
    "state, rounds, scores = Codenames(board[0], board[1], guesser_agent, codemaster_agent, simple=True).play_game()\n",
    "# Running a game with pragmatic Guesser\n",
    "# state, rounds, scores = Codenames(board[0], board[1], guesser_agent, codemaster_agent, simple=False).play_game()"
   ]
  },
  {
   "cell_type": "markdown",
   "metadata": {},
   "source": [
    "state = State of the game (1 if won, otherwise lost)\n",
    "rounds = The amount of rounds it took to play\n",
    "scores = s_turn for each turn"
   ]
  },
  {
   "cell_type": "code",
   "execution_count": 10,
   "metadata": {},
   "outputs": [
    {
     "name": "stdout",
     "output_type": "stream",
     "text": [
      "1 7 [-1, 3, 2, 1, 1, -1, 1]\n"
     ]
    }
   ],
   "source": [
    "print(state, rounds, scores)"
   ]
  }
 ],
 "metadata": {
  "kernelspec": {
   "display_name": "CodenamesRSA",
   "language": "python",
   "name": "codenamesrsa"
  },
  "language_info": {
   "codemirror_mode": {
    "name": "ipython",
    "version": 3
   },
   "file_extension": ".py",
   "mimetype": "text/x-python",
   "name": "python",
   "nbconvert_exporter": "python",
   "pygments_lexer": "ipython3",
   "version": "3.11.8"
  }
 },
 "nbformat": 4,
 "nbformat_minor": 2
}
